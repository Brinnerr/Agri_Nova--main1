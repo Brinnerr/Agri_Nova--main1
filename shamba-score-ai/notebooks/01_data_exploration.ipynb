{
 "cells": [
  {
   "cell_type": "markdown",
   "metadata": {},
   "source": [
    "# 🌾 Shamba Score: Data Exploration\n",
    "\n",
    "## Overview\n",
    "This notebook explores the synthetic farmer dataset for the Shamba Score credit scoring system.\n",
    "- **Dataset**: 500 Kenyan farmer profiles\n",
    "- **Features**: 15 ML input features + target variable\n",
    "- **Purpose**: Understand data distribution and relationships for model training"
   ]
  },
  {
   "cell_type": "code",
   "execution_count": null,
   "metadata": {},
   "outputs": [],
   "source": [
    "import pandas as pd\n",
    "import matplotlib.pyplot as plt\n",
    "import seaborn as sns\n",
    "import numpy as np\n",
    "\n",
    "# Set style for better plots\n",
    "plt.style.use('default')\n",
    "sns.set_palette(\"husl\")\n",
    "\n",
    "print(\"📊 Shamba Score Data Exploration\")\n",
    "print(\"🌍 Climate-Adaptive Credit Scoring for Kenyan Farmers\")"
   ]
  },
  {
   "cell_type": "markdown",
   "metadata": {},
   "source": [
    "## 1. Load and Inspect Data"
   ]
  },
  {
   "cell_type": "code",
   "execution_count": null,
   "metadata": {},
   "outputs": [],
   "source": [
    "# Load data\n",
    "df = pd.read_csv('../data/farmers_training_data.csv')\n",
    "\n",
    "# Display basic info\n",
    "print(\"Dataset Shape:\", df.shape)\n",
    "print(\"\\nFirst 5 rows:\")\n",
    "display(df.head())\n",
    "\n",
    "print(\"\\nData Types:\")\n",
    "display(df.dtypes)\n",
    "\n",
    "print(\"\\nMissing Values:\")\n",
    "display(df.isnull().sum())\n",
    "\n",
    "print(\"\\nCredit Score Statistics:\")\n",
    "display(df['credit_score'].describe())"
   ]
  },
  {
   "cell_type": "markdown",
   "metadata": {},
   "source": [
    "## 2. Feature Analysis"
   ]
  },
  {
   "cell_type": "code",
   "execution_count": null,
   "metadata": {},
   "outputs": [],
   "source": [
    "# Key features for analysis\n",
    "ml_features = [\n",
    "    'mean_ndvi', 'ndvi_trend', 'growing_season_match',\n",
    "    'transaction_velocity', 'savings_rate', 'loan_repayment_history',\n",
    "    'cooperative_endorsement', 'chama_participation', 'neighbor_vouches',\n",
    "    'fertilizer_purchase_timing', 'seed_quality_tier', 'advisory_usage',\n",
    "    'drought_exposure_index', 'rainfall_deviation', 'temperature_anomaly'\n",
    "]\n",
    "\n",
    "print(\"📈 15 ML Features:\")\n",
    "for i, feature in enumerate(ml_features, 1):\n",
    "    print(f\"{i:2d}. {feature}\")\n",
    "\n",
    "print(f\"\\n🎯 Target Variable: credit_score\")\n",
    "print(f\"📊 Farmer Types Distribution:\")\n",
    "print(df['farmer_type'].value_counts())"
   ]
  },
  {
   "cell_type": "markdown",
   "metadata": {},
   "source": [
    "## 3. Data Visualizations"
   ]
  },
  {
   "cell_type": "code",
   "execution_count": null,
   "metadata": {},
   "outputs": [],
   "source": [
    "# Create comprehensive visualizations\n",
    "fig, axes = plt.subplots(2, 2, figsize=(15, 10))\n",
    "fig.suptitle('🌾 Shamba Score: Data Exploration Dashboard', fontsize=16, fontweight='bold')\n",
    "\n",
    "# 1. Credit Score Distribution\n",
    "axes[0, 0].hist(df['credit_score'], bins=25, color='green', alpha=0.7, edgecolor='black')\n",
    "axes[0, 0].set_title('Credit Score Distribution')\n",
    "axes[0, 0].set_xlabel('Score')\n",
    "axes[0, 0].set_ylabel('Frequency')\n",
    "axes[0, 0].grid(True, alpha=0.3)\n",
    "\n",
    "# 2. Score by Farmer Type\n",
    "df.boxplot(column='credit_score', by='farmer_type', ax=axes[0, 1])\n",
    "axes[0, 1].set_title('Credit Score by Farmer Type')\n",
    "axes[0, 1].set_xlabel('Farmer Type')\n",
    "axes[0, 1].set_ylabel('Credit Score')\n",
    "\n",
    "# 3. Score by County\n",
    "df.boxplot(column='credit_score', by='county', ax=axes[1, 0])\n",
    "axes[1, 0].set_title('Credit Score by County')\n",
    "axes[1, 0].set_xlabel('County')\n",
    "axes[1, 0].set_ylabel('Credit Score')\n",
    "axes[1, 0].tick_params(axis='x', rotation=45)\n",
    "\n",
    "# 4. NDVI vs Credit Score\n",
    "scatter = axes[1, 1].scatter(df['mean_ndvi'], df['credit_score'], \n",
    "                           alpha=0.6, c=df['credit_score'], cmap='RdYlGn', s=30)\n",
    "axes[1, 1].set_title('NDVI vs Credit Score')\n",
    "axes[1, 1].set_xlabel('Mean NDVI (Vegetation Health)')\n",
    "axes[1, 1].set_ylabel('Credit Score')\n",
    "axes[1, 1].grid(True, alpha=0.3)\n",
    "plt.colorbar(scatter, ax=axes[1, 1], label='Credit Score')\n",
    "\n",
    "plt.tight_layout()\n",
    "plt.savefig('../docs/data_exploration.png', dpi=150, bbox_inches='tight')\n",
    "plt.show()\n",
    "\n",
    "print(\"\\n✅ Exploration complete! Check docs/data_exploration.png\")"
   ]
  },
  {
   "cell_type": "markdown",
   "metadata": {},
   "source": [
    "## 4. Feature Correlations"
   ]
  },
  {
   "cell_type": "code",
   "execution_count": null,
   "metadata": {},
   "outputs": [],
   "source": [
    "# Correlation analysis\n",
    "correlation_features = ml_features + ['credit_score']\n",
    "corr_matrix = df[correlation_features].corr()\n",
    "\n",
    "# Plot correlation heatmap\n",
    "plt.figure(figsize=(12, 10))\n",
    "sns.heatmap(corr_matrix, annot=True, cmap='RdBu_r', center=0, \n",
    "            square=True, fmt='.2f', cbar_kws={'label': 'Correlation'})\n",
    "plt.title('🌾 Feature Correlation Matrix', fontsize=14, fontweight='bold')\n",
    "plt.tight_layout()\n",
    "plt.savefig('../docs/correlation_matrix.png', dpi=150, bbox_inches='tight')\n",
    "plt.show()\n",
    "\n",
    "# Top correlations with credit score\n",
    "credit_corr = corr_matrix['credit_score'].abs().sort_values(ascending=False)\n",
    "print(\"\\n🎯 Top Features Correlated with Credit Score:\")\n",
    "for feature, corr in credit_corr.head(10).items():\n",
    "    if feature != 'credit_score':\n",
    "        print(f\"{feature:25s}: {corr:.3f}\")"
   ]
  },
  {
   "cell_type": "markdown",
   "metadata": {},
   "source": [
    "## 5. Summary Statistics"
   ]
  },
  {
   "cell_type": "code",
   "execution_count": null,
   "metadata": {},
   "outputs": [],
   "source": [
    "# Summary by farmer type\n",
    "print(\"📊 Credit Score Summary by Farmer Type:\")\n",
    "summary = df.groupby('farmer_type')['credit_score'].agg(['count', 'mean', 'std', 'min', 'max'])\n",
    "display(summary.round(2))\n",
    "\n",
    "print(\"\\n🌍 Credit Score Summary by County:\")\n",
    "county_summary = df.groupby('county')['credit_score'].agg(['count', 'mean', 'std']).round(2)\n",
    "display(county_summary)\n",
    "\n",
    "print(\"\\n📈 Key Insights:\")\n",
    "print(f\"• Total Farmers: {len(df)}\")\n",
    "print(f\"• Average Credit Score: {df['credit_score'].mean():.1f}\")\n",
    "print(f\"• Score Range: {df['credit_score'].min():.1f} - {df['credit_score'].max():.1f}\")\n",
    "print(f\"• Excellent Farmers: {(df['farmer_type'] == 'excellent').sum()} ({(df['farmer_type'] == 'excellent').mean()*100:.1f}%)\")\n",
    "print(f\"• Struggling Farmers: {(df['farmer_type'] == 'struggling').sum()} ({(df['farmer_type'] == 'struggling').mean()*100:.1f}%)\")\n",
    "\n",
    "print(\"\\n🚀 Dataset ready for ML model training!\")"
   ]
  }
 ],
 "metadata": {
  "kernelspec": {
   "display_name": "Python 3",
   "language": "python",
   "name": "python3"
  },
  "language_info": {
   "codemirror_mode": {
    "name": "ipython",
    "version": 3
   },
   "file_extension": ".py",
   "mimetype": "text/x-python",
   "name": "python",
   "nbconvert_exporter": "python",
   "pygments_lexer": "ipython3",
   "version": "3.12.0"
  }
 },
 "nbformat": 4,
 "nbformat_minor": 4
}